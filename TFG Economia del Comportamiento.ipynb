{
 "cells": [
  {
   "cell_type": "markdown",
   "metadata": {},
   "source": [
    "# Análisis TFG"
   ]
  },
  {
   "cell_type": "markdown",
   "metadata": {},
   "source": [
    "### Importar librerías"
   ]
  },
  {
   "cell_type": "code",
   "execution_count": 1,
   "metadata": {},
   "outputs": [],
   "source": [
    "import pandas as pd\n",
    "import numpy as np\n",
    "from sklearn.cluster import KMeans\n",
    "import matplotlib.pyplot as plt\n",
    "%matplotlib inline"
   ]
  },
  {
   "cell_type": "markdown",
   "metadata": {},
   "source": [
    "### Carga de datos "
   ]
  },
  {
   "cell_type": "code",
   "execution_count": 2,
   "metadata": {},
   "outputs": [
    {
     "data": {
      "text/html": [
       "<div>\n",
       "<style scoped>\n",
       "    .dataframe tbody tr th:only-of-type {\n",
       "        vertical-align: middle;\n",
       "    }\n",
       "\n",
       "    .dataframe tbody tr th {\n",
       "        vertical-align: top;\n",
       "    }\n",
       "\n",
       "    .dataframe thead th {\n",
       "        text-align: right;\n",
       "    }\n",
       "</style>\n",
       "<table border=\"1\" class=\"dataframe\">\n",
       "  <thead>\n",
       "    <tr style=\"text-align: right;\">\n",
       "      <th></th>\n",
       "      <th>Si quieres recibir los resultados deja tu email a continuación</th>\n",
       "      <th>Timestamp</th>\n",
       "      <th>c1</th>\n",
       "      <th>c2</th>\n",
       "      <th>c3</th>\n",
       "      <th>c4</th>\n",
       "      <th>c5</th>\n",
       "      <th>c6</th>\n",
       "      <th>l</th>\n",
       "      <th>0</th>\n",
       "      <th>1</th>\n",
       "      <th>2</th>\n",
       "      <th>3</th>\n",
       "      <th>4</th>\n",
       "      <th>5</th>\n",
       "      <th>6</th>\n",
       "      <th>7</th>\n",
       "      <th>8</th>\n",
       "      <th>9</th>\n",
       "      <th>10</th>\n",
       "    </tr>\n",
       "  </thead>\n",
       "  <tbody>\n",
       "    <tr>\n",
       "      <th>0</th>\n",
       "      <td>NaN</td>\n",
       "      <td>2019-05-01 12:18:50.189</td>\n",
       "      <td>10</td>\n",
       "      <td>10</td>\n",
       "      <td>16</td>\n",
       "      <td>16</td>\n",
       "      <td>13</td>\n",
       "      <td>13.0</td>\n",
       "      <td>8</td>\n",
       "      <td>0</td>\n",
       "      <td>1</td>\n",
       "      <td>2</td>\n",
       "      <td>3</td>\n",
       "      <td>4</td>\n",
       "      <td>5</td>\n",
       "      <td>6</td>\n",
       "      <td>7</td>\n",
       "      <td>8</td>\n",
       "      <td>9</td>\n",
       "      <td>10</td>\n",
       "    </tr>\n",
       "    <tr>\n",
       "      <th>1</th>\n",
       "      <td>Aberasa@gmail.com</td>\n",
       "      <td>2019-05-01 12:25:20.586</td>\n",
       "      <td>10</td>\n",
       "      <td>10</td>\n",
       "      <td>16</td>\n",
       "      <td>16</td>\n",
       "      <td>13</td>\n",
       "      <td>13.0</td>\n",
       "      <td>6</td>\n",
       "      <td>0</td>\n",
       "      <td>1</td>\n",
       "      <td>2</td>\n",
       "      <td>3</td>\n",
       "      <td>4</td>\n",
       "      <td>5</td>\n",
       "      <td>6</td>\n",
       "      <td>7</td>\n",
       "      <td>8</td>\n",
       "      <td>9</td>\n",
       "      <td>10</td>\n",
       "    </tr>\n",
       "    <tr>\n",
       "      <th>2</th>\n",
       "      <td>Cris_abad89@hotmail.com</td>\n",
       "      <td>2019-05-01 12:28:41.949</td>\n",
       "      <td>10</td>\n",
       "      <td>10</td>\n",
       "      <td>16</td>\n",
       "      <td>16</td>\n",
       "      <td>13</td>\n",
       "      <td>13.0</td>\n",
       "      <td>5</td>\n",
       "      <td>0</td>\n",
       "      <td>0</td>\n",
       "      <td>0</td>\n",
       "      <td>1</td>\n",
       "      <td>3</td>\n",
       "      <td>5</td>\n",
       "      <td>7</td>\n",
       "      <td>4</td>\n",
       "      <td>6</td>\n",
       "      <td>8</td>\n",
       "      <td>10</td>\n",
       "    </tr>\n",
       "    <tr>\n",
       "      <th>3</th>\n",
       "      <td>NaN</td>\n",
       "      <td>2019-05-01 12:29:27.993</td>\n",
       "      <td>10</td>\n",
       "      <td>10</td>\n",
       "      <td>16</td>\n",
       "      <td>16</td>\n",
       "      <td>13</td>\n",
       "      <td>13.0</td>\n",
       "      <td>0</td>\n",
       "      <td>0</td>\n",
       "      <td>0</td>\n",
       "      <td>0</td>\n",
       "      <td>0</td>\n",
       "      <td>0</td>\n",
       "      <td>0</td>\n",
       "      <td>0</td>\n",
       "      <td>0</td>\n",
       "      <td>0</td>\n",
       "      <td>0</td>\n",
       "      <td>0</td>\n",
       "    </tr>\n",
       "    <tr>\n",
       "      <th>4</th>\n",
       "      <td>ainhoaidiakez@hotmail.com</td>\n",
       "      <td>2019-05-01 12:31:26.868</td>\n",
       "      <td>10</td>\n",
       "      <td>10</td>\n",
       "      <td>16</td>\n",
       "      <td>16</td>\n",
       "      <td>10</td>\n",
       "      <td>13.0</td>\n",
       "      <td>7</td>\n",
       "      <td>0</td>\n",
       "      <td>1</td>\n",
       "      <td>2</td>\n",
       "      <td>3</td>\n",
       "      <td>6</td>\n",
       "      <td>5</td>\n",
       "      <td>6</td>\n",
       "      <td>7</td>\n",
       "      <td>8</td>\n",
       "      <td>9</td>\n",
       "      <td>10</td>\n",
       "    </tr>\n",
       "    <tr>\n",
       "      <th>5</th>\n",
       "      <td>oscarvh78@gmail.com</td>\n",
       "      <td>2019-05-01 12:31:56.844</td>\n",
       "      <td>10</td>\n",
       "      <td>10</td>\n",
       "      <td>16</td>\n",
       "      <td>16</td>\n",
       "      <td>13</td>\n",
       "      <td>13.0</td>\n",
       "      <td>4</td>\n",
       "      <td>0</td>\n",
       "      <td>1</td>\n",
       "      <td>2</td>\n",
       "      <td>3</td>\n",
       "      <td>4</td>\n",
       "      <td>5</td>\n",
       "      <td>4</td>\n",
       "      <td>3</td>\n",
       "      <td>2</td>\n",
       "      <td>1</td>\n",
       "      <td>0</td>\n",
       "    </tr>\n",
       "    <tr>\n",
       "      <th>6</th>\n",
       "      <td>NaN</td>\n",
       "      <td>2019-05-01 12:36:40.497</td>\n",
       "      <td>10</td>\n",
       "      <td>10</td>\n",
       "      <td>16</td>\n",
       "      <td>16</td>\n",
       "      <td>13</td>\n",
       "      <td>13.0</td>\n",
       "      <td>10</td>\n",
       "      <td>0</td>\n",
       "      <td>1</td>\n",
       "      <td>2</td>\n",
       "      <td>3</td>\n",
       "      <td>4</td>\n",
       "      <td>5</td>\n",
       "      <td>6</td>\n",
       "      <td>7</td>\n",
       "      <td>8</td>\n",
       "      <td>9</td>\n",
       "      <td>10</td>\n",
       "    </tr>\n",
       "    <tr>\n",
       "      <th>7</th>\n",
       "      <td>mrn1989@gmail.com</td>\n",
       "      <td>2019-05-01 12:41:30.290</td>\n",
       "      <td>10</td>\n",
       "      <td>10</td>\n",
       "      <td>16</td>\n",
       "      <td>16</td>\n",
       "      <td>13</td>\n",
       "      <td>13.0</td>\n",
       "      <td>4</td>\n",
       "      <td>0</td>\n",
       "      <td>0</td>\n",
       "      <td>0</td>\n",
       "      <td>0</td>\n",
       "      <td>3</td>\n",
       "      <td>3</td>\n",
       "      <td>3</td>\n",
       "      <td>3</td>\n",
       "      <td>3</td>\n",
       "      <td>3</td>\n",
       "      <td>3</td>\n",
       "    </tr>\n",
       "    <tr>\n",
       "      <th>8</th>\n",
       "      <td>NaN</td>\n",
       "      <td>2019-05-01 12:43:31.999</td>\n",
       "      <td>10</td>\n",
       "      <td>10</td>\n",
       "      <td>16</td>\n",
       "      <td>16</td>\n",
       "      <td>13</td>\n",
       "      <td>13.0</td>\n",
       "      <td>4</td>\n",
       "      <td>0</td>\n",
       "      <td>0</td>\n",
       "      <td>1</td>\n",
       "      <td>2</td>\n",
       "      <td>3</td>\n",
       "      <td>4</td>\n",
       "      <td>5</td>\n",
       "      <td>6</td>\n",
       "      <td>7</td>\n",
       "      <td>8</td>\n",
       "      <td>9</td>\n",
       "    </tr>\n",
       "    <tr>\n",
       "      <th>9</th>\n",
       "      <td>raulsantiagogoni@gmail.com</td>\n",
       "      <td>2019-05-01 12:50:02.098</td>\n",
       "      <td>10</td>\n",
       "      <td>10</td>\n",
       "      <td>16</td>\n",
       "      <td>10</td>\n",
       "      <td>16</td>\n",
       "      <td>13.0</td>\n",
       "      <td>10</td>\n",
       "      <td>1</td>\n",
       "      <td>2</td>\n",
       "      <td>3</td>\n",
       "      <td>4</td>\n",
       "      <td>5</td>\n",
       "      <td>6</td>\n",
       "      <td>7</td>\n",
       "      <td>8</td>\n",
       "      <td>9</td>\n",
       "      <td>10</td>\n",
       "      <td>10</td>\n",
       "    </tr>\n",
       "    <tr>\n",
       "      <th>10</th>\n",
       "      <td>jberaxa@gmail.com</td>\n",
       "      <td>2019-05-01 13:23:13.540</td>\n",
       "      <td>10</td>\n",
       "      <td>10</td>\n",
       "      <td>16</td>\n",
       "      <td>16</td>\n",
       "      <td>13</td>\n",
       "      <td>13.0</td>\n",
       "      <td>5</td>\n",
       "      <td>0</td>\n",
       "      <td>1</td>\n",
       "      <td>2</td>\n",
       "      <td>3</td>\n",
       "      <td>4</td>\n",
       "      <td>5</td>\n",
       "      <td>6</td>\n",
       "      <td>7</td>\n",
       "      <td>8</td>\n",
       "      <td>9</td>\n",
       "      <td>10</td>\n",
       "    </tr>\n",
       "    <tr>\n",
       "      <th>11</th>\n",
       "      <td>NaN</td>\n",
       "      <td>2019-05-01 13:47:10.930</td>\n",
       "      <td>10</td>\n",
       "      <td>10</td>\n",
       "      <td>16</td>\n",
       "      <td>16</td>\n",
       "      <td>13</td>\n",
       "      <td>13.0</td>\n",
       "      <td>0</td>\n",
       "      <td>0</td>\n",
       "      <td>0</td>\n",
       "      <td>0</td>\n",
       "      <td>0</td>\n",
       "      <td>0</td>\n",
       "      <td>0</td>\n",
       "      <td>0</td>\n",
       "      <td>0</td>\n",
       "      <td>0</td>\n",
       "      <td>0</td>\n",
       "      <td>0</td>\n",
       "    </tr>\n",
       "    <tr>\n",
       "      <th>12</th>\n",
       "      <td>iraros@hotmail.com</td>\n",
       "      <td>2019-05-01 20:13:20.771</td>\n",
       "      <td>10</td>\n",
       "      <td>10</td>\n",
       "      <td>16</td>\n",
       "      <td>16</td>\n",
       "      <td>13</td>\n",
       "      <td>13.0</td>\n",
       "      <td>0</td>\n",
       "      <td>0</td>\n",
       "      <td>0</td>\n",
       "      <td>0</td>\n",
       "      <td>0</td>\n",
       "      <td>0</td>\n",
       "      <td>0</td>\n",
       "      <td>0</td>\n",
       "      <td>0</td>\n",
       "      <td>0</td>\n",
       "      <td>0</td>\n",
       "      <td>0</td>\n",
       "    </tr>\n",
       "    <tr>\n",
       "      <th>13</th>\n",
       "      <td>NaN</td>\n",
       "      <td>2019-05-01 20:22:46.600</td>\n",
       "      <td>10</td>\n",
       "      <td>10</td>\n",
       "      <td>16</td>\n",
       "      <td>16</td>\n",
       "      <td>13</td>\n",
       "      <td>13.0</td>\n",
       "      <td>7</td>\n",
       "      <td>0</td>\n",
       "      <td>2</td>\n",
       "      <td>2</td>\n",
       "      <td>3</td>\n",
       "      <td>4</td>\n",
       "      <td>5</td>\n",
       "      <td>6</td>\n",
       "      <td>7</td>\n",
       "      <td>8</td>\n",
       "      <td>9</td>\n",
       "      <td>10</td>\n",
       "    </tr>\n",
       "    <tr>\n",
       "      <th>14</th>\n",
       "      <td>NaN</td>\n",
       "      <td>2019-05-01 20:49:33.502</td>\n",
       "      <td>10</td>\n",
       "      <td>10</td>\n",
       "      <td>16</td>\n",
       "      <td>16</td>\n",
       "      <td>13</td>\n",
       "      <td>13.0</td>\n",
       "      <td>5</td>\n",
       "      <td>0</td>\n",
       "      <td>0</td>\n",
       "      <td>0</td>\n",
       "      <td>0</td>\n",
       "      <td>0</td>\n",
       "      <td>5</td>\n",
       "      <td>6</td>\n",
       "      <td>7</td>\n",
       "      <td>8</td>\n",
       "      <td>9</td>\n",
       "      <td>10</td>\n",
       "    </tr>\n",
       "    <tr>\n",
       "      <th>15</th>\n",
       "      <td>c.heras@telefonica.net</td>\n",
       "      <td>2019-05-01 21:13:44.813</td>\n",
       "      <td>10</td>\n",
       "      <td>10</td>\n",
       "      <td>16</td>\n",
       "      <td>16</td>\n",
       "      <td>13</td>\n",
       "      <td>13.0</td>\n",
       "      <td>2</td>\n",
       "      <td>0</td>\n",
       "      <td>0</td>\n",
       "      <td>0</td>\n",
       "      <td>0</td>\n",
       "      <td>0</td>\n",
       "      <td>0</td>\n",
       "      <td>1</td>\n",
       "      <td>1</td>\n",
       "      <td>1</td>\n",
       "      <td>2</td>\n",
       "      <td>2</td>\n",
       "    </tr>\n",
       "    <tr>\n",
       "      <th>16</th>\n",
       "      <td>PRESENCIAL</td>\n",
       "      <td>2019-04-25 08:30:00.000</td>\n",
       "      <td>10</td>\n",
       "      <td>10</td>\n",
       "      <td>16</td>\n",
       "      <td>16</td>\n",
       "      <td>13</td>\n",
       "      <td>13.0</td>\n",
       "      <td>0</td>\n",
       "      <td>0</td>\n",
       "      <td>1</td>\n",
       "      <td>2</td>\n",
       "      <td>3</td>\n",
       "      <td>4</td>\n",
       "      <td>5</td>\n",
       "      <td>6</td>\n",
       "      <td>7</td>\n",
       "      <td>8</td>\n",
       "      <td>9</td>\n",
       "      <td>10</td>\n",
       "    </tr>\n",
       "    <tr>\n",
       "      <th>17</th>\n",
       "      <td>PRESENCIAL</td>\n",
       "      <td>2019-04-25 08:30:00.000</td>\n",
       "      <td>10</td>\n",
       "      <td>10</td>\n",
       "      <td>16</td>\n",
       "      <td>16</td>\n",
       "      <td>12</td>\n",
       "      <td>11.4</td>\n",
       "      <td>5</td>\n",
       "      <td>0</td>\n",
       "      <td>0</td>\n",
       "      <td>0</td>\n",
       "      <td>0</td>\n",
       "      <td>0</td>\n",
       "      <td>5</td>\n",
       "      <td>3</td>\n",
       "      <td>7</td>\n",
       "      <td>7</td>\n",
       "      <td>9</td>\n",
       "      <td>10</td>\n",
       "    </tr>\n",
       "  </tbody>\n",
       "</table>\n",
       "</div>"
      ],
      "text/plain": [
       "   Si quieres recibir los resultados deja tu email a continuación  \\\n",
       "0                                                 NaN               \n",
       "1                                  Aberasa@gmail.com                \n",
       "2                             Cris_abad89@hotmail.com               \n",
       "3                                                 NaN               \n",
       "4                           ainhoaidiakez@hotmail.com               \n",
       "5                                 oscarvh78@gmail.com               \n",
       "6                                                 NaN               \n",
       "7                                   mrn1989@gmail.com               \n",
       "8                                                 NaN               \n",
       "9                         raulsantiagogoni@gmail.com                \n",
       "10                                 jberaxa@gmail.com                \n",
       "11                                                NaN               \n",
       "12                                 iraros@hotmail.com               \n",
       "13                                                NaN               \n",
       "14                                                NaN               \n",
       "15                             c.heras@telefonica.net               \n",
       "16                                         PRESENCIAL               \n",
       "17                                         PRESENCIAL               \n",
       "\n",
       "                 Timestamp  c1  c2  c3  c4  c5    c6   l  0  1  2  3  4  5  6  \\\n",
       "0  2019-05-01 12:18:50.189  10  10  16  16  13  13.0   8  0  1  2  3  4  5  6   \n",
       "1  2019-05-01 12:25:20.586  10  10  16  16  13  13.0   6  0  1  2  3  4  5  6   \n",
       "2  2019-05-01 12:28:41.949  10  10  16  16  13  13.0   5  0  0  0  1  3  5  7   \n",
       "3  2019-05-01 12:29:27.993  10  10  16  16  13  13.0   0  0  0  0  0  0  0  0   \n",
       "4  2019-05-01 12:31:26.868  10  10  16  16  10  13.0   7  0  1  2  3  6  5  6   \n",
       "5  2019-05-01 12:31:56.844  10  10  16  16  13  13.0   4  0  1  2  3  4  5  4   \n",
       "6  2019-05-01 12:36:40.497  10  10  16  16  13  13.0  10  0  1  2  3  4  5  6   \n",
       "7  2019-05-01 12:41:30.290  10  10  16  16  13  13.0   4  0  0  0  0  3  3  3   \n",
       "8  2019-05-01 12:43:31.999  10  10  16  16  13  13.0   4  0  0  1  2  3  4  5   \n",
       "9  2019-05-01 12:50:02.098  10  10  16  10  16  13.0  10  1  2  3  4  5  6  7   \n",
       "10 2019-05-01 13:23:13.540  10  10  16  16  13  13.0   5  0  1  2  3  4  5  6   \n",
       "11 2019-05-01 13:47:10.930  10  10  16  16  13  13.0   0  0  0  0  0  0  0  0   \n",
       "12 2019-05-01 20:13:20.771  10  10  16  16  13  13.0   0  0  0  0  0  0  0  0   \n",
       "13 2019-05-01 20:22:46.600  10  10  16  16  13  13.0   7  0  2  2  3  4  5  6   \n",
       "14 2019-05-01 20:49:33.502  10  10  16  16  13  13.0   5  0  0  0  0  0  5  6   \n",
       "15 2019-05-01 21:13:44.813  10  10  16  16  13  13.0   2  0  0  0  0  0  0  1   \n",
       "16 2019-04-25 08:30:00.000  10  10  16  16  13  13.0   0  0  1  2  3  4  5  6   \n",
       "17 2019-04-25 08:30:00.000  10  10  16  16  12  11.4   5  0  0  0  0  0  5  3   \n",
       "\n",
       "    7  8   9  10  \n",
       "0   7  8   9  10  \n",
       "1   7  8   9  10  \n",
       "2   4  6   8  10  \n",
       "3   0  0   0   0  \n",
       "4   7  8   9  10  \n",
       "5   3  2   1   0  \n",
       "6   7  8   9  10  \n",
       "7   3  3   3   3  \n",
       "8   6  7   8   9  \n",
       "9   8  9  10  10  \n",
       "10  7  8   9  10  \n",
       "11  0  0   0   0  \n",
       "12  0  0   0   0  \n",
       "13  7  8   9  10  \n",
       "14  7  8   9  10  \n",
       "15  1  1   2   2  \n",
       "16  7  8   9  10  \n",
       "17  7  7   9  10  "
      ]
     },
     "execution_count": 2,
     "metadata": {},
     "output_type": "execute_result"
    }
   ],
   "source": [
    "df = pd.read_excel('Experimento Económico (Responses).xlsx', sheet_name = 'Form Responses 1')\n",
    "df"
   ]
  },
  {
   "cell_type": "code",
   "execution_count": 3,
   "metadata": {},
   "outputs": [
    {
     "data": {
      "text/html": [
       "<div>\n",
       "<style scoped>\n",
       "    .dataframe tbody tr th:only-of-type {\n",
       "        vertical-align: middle;\n",
       "    }\n",
       "\n",
       "    .dataframe tbody tr th {\n",
       "        vertical-align: top;\n",
       "    }\n",
       "\n",
       "    .dataframe thead th {\n",
       "        text-align: right;\n",
       "    }\n",
       "</style>\n",
       "<table border=\"1\" class=\"dataframe\">\n",
       "  <thead>\n",
       "    <tr style=\"text-align: right;\">\n",
       "      <th></th>\n",
       "      <th>0</th>\n",
       "      <th>1</th>\n",
       "      <th>2</th>\n",
       "      <th>3</th>\n",
       "      <th>4</th>\n",
       "      <th>5</th>\n",
       "      <th>6</th>\n",
       "      <th>7</th>\n",
       "      <th>8</th>\n",
       "      <th>9</th>\n",
       "      <th>10</th>\n",
       "    </tr>\n",
       "  </thead>\n",
       "  <tbody>\n",
       "    <tr>\n",
       "      <th>0</th>\n",
       "      <td>0</td>\n",
       "      <td>1</td>\n",
       "      <td>2</td>\n",
       "      <td>3</td>\n",
       "      <td>4</td>\n",
       "      <td>5</td>\n",
       "      <td>6</td>\n",
       "      <td>7</td>\n",
       "      <td>8</td>\n",
       "      <td>9</td>\n",
       "      <td>10</td>\n",
       "    </tr>\n",
       "    <tr>\n",
       "      <th>1</th>\n",
       "      <td>0</td>\n",
       "      <td>1</td>\n",
       "      <td>2</td>\n",
       "      <td>3</td>\n",
       "      <td>4</td>\n",
       "      <td>5</td>\n",
       "      <td>6</td>\n",
       "      <td>7</td>\n",
       "      <td>8</td>\n",
       "      <td>9</td>\n",
       "      <td>10</td>\n",
       "    </tr>\n",
       "    <tr>\n",
       "      <th>2</th>\n",
       "      <td>0</td>\n",
       "      <td>0</td>\n",
       "      <td>0</td>\n",
       "      <td>1</td>\n",
       "      <td>3</td>\n",
       "      <td>5</td>\n",
       "      <td>7</td>\n",
       "      <td>4</td>\n",
       "      <td>6</td>\n",
       "      <td>8</td>\n",
       "      <td>10</td>\n",
       "    </tr>\n",
       "    <tr>\n",
       "      <th>3</th>\n",
       "      <td>0</td>\n",
       "      <td>0</td>\n",
       "      <td>0</td>\n",
       "      <td>0</td>\n",
       "      <td>0</td>\n",
       "      <td>0</td>\n",
       "      <td>0</td>\n",
       "      <td>0</td>\n",
       "      <td>0</td>\n",
       "      <td>0</td>\n",
       "      <td>0</td>\n",
       "    </tr>\n",
       "    <tr>\n",
       "      <th>4</th>\n",
       "      <td>0</td>\n",
       "      <td>1</td>\n",
       "      <td>2</td>\n",
       "      <td>3</td>\n",
       "      <td>6</td>\n",
       "      <td>5</td>\n",
       "      <td>6</td>\n",
       "      <td>7</td>\n",
       "      <td>8</td>\n",
       "      <td>9</td>\n",
       "      <td>10</td>\n",
       "    </tr>\n",
       "    <tr>\n",
       "      <th>5</th>\n",
       "      <td>0</td>\n",
       "      <td>1</td>\n",
       "      <td>2</td>\n",
       "      <td>3</td>\n",
       "      <td>4</td>\n",
       "      <td>5</td>\n",
       "      <td>4</td>\n",
       "      <td>3</td>\n",
       "      <td>2</td>\n",
       "      <td>1</td>\n",
       "      <td>0</td>\n",
       "    </tr>\n",
       "    <tr>\n",
       "      <th>6</th>\n",
       "      <td>0</td>\n",
       "      <td>1</td>\n",
       "      <td>2</td>\n",
       "      <td>3</td>\n",
       "      <td>4</td>\n",
       "      <td>5</td>\n",
       "      <td>6</td>\n",
       "      <td>7</td>\n",
       "      <td>8</td>\n",
       "      <td>9</td>\n",
       "      <td>10</td>\n",
       "    </tr>\n",
       "    <tr>\n",
       "      <th>7</th>\n",
       "      <td>0</td>\n",
       "      <td>0</td>\n",
       "      <td>0</td>\n",
       "      <td>0</td>\n",
       "      <td>3</td>\n",
       "      <td>3</td>\n",
       "      <td>3</td>\n",
       "      <td>3</td>\n",
       "      <td>3</td>\n",
       "      <td>3</td>\n",
       "      <td>3</td>\n",
       "    </tr>\n",
       "    <tr>\n",
       "      <th>8</th>\n",
       "      <td>0</td>\n",
       "      <td>0</td>\n",
       "      <td>1</td>\n",
       "      <td>2</td>\n",
       "      <td>3</td>\n",
       "      <td>4</td>\n",
       "      <td>5</td>\n",
       "      <td>6</td>\n",
       "      <td>7</td>\n",
       "      <td>8</td>\n",
       "      <td>9</td>\n",
       "    </tr>\n",
       "    <tr>\n",
       "      <th>9</th>\n",
       "      <td>1</td>\n",
       "      <td>2</td>\n",
       "      <td>3</td>\n",
       "      <td>4</td>\n",
       "      <td>5</td>\n",
       "      <td>6</td>\n",
       "      <td>7</td>\n",
       "      <td>8</td>\n",
       "      <td>9</td>\n",
       "      <td>10</td>\n",
       "      <td>10</td>\n",
       "    </tr>\n",
       "    <tr>\n",
       "      <th>10</th>\n",
       "      <td>0</td>\n",
       "      <td>1</td>\n",
       "      <td>2</td>\n",
       "      <td>3</td>\n",
       "      <td>4</td>\n",
       "      <td>5</td>\n",
       "      <td>6</td>\n",
       "      <td>7</td>\n",
       "      <td>8</td>\n",
       "      <td>9</td>\n",
       "      <td>10</td>\n",
       "    </tr>\n",
       "    <tr>\n",
       "      <th>11</th>\n",
       "      <td>0</td>\n",
       "      <td>0</td>\n",
       "      <td>0</td>\n",
       "      <td>0</td>\n",
       "      <td>0</td>\n",
       "      <td>0</td>\n",
       "      <td>0</td>\n",
       "      <td>0</td>\n",
       "      <td>0</td>\n",
       "      <td>0</td>\n",
       "      <td>0</td>\n",
       "    </tr>\n",
       "    <tr>\n",
       "      <th>12</th>\n",
       "      <td>0</td>\n",
       "      <td>0</td>\n",
       "      <td>0</td>\n",
       "      <td>0</td>\n",
       "      <td>0</td>\n",
       "      <td>0</td>\n",
       "      <td>0</td>\n",
       "      <td>0</td>\n",
       "      <td>0</td>\n",
       "      <td>0</td>\n",
       "      <td>0</td>\n",
       "    </tr>\n",
       "    <tr>\n",
       "      <th>13</th>\n",
       "      <td>0</td>\n",
       "      <td>2</td>\n",
       "      <td>2</td>\n",
       "      <td>3</td>\n",
       "      <td>4</td>\n",
       "      <td>5</td>\n",
       "      <td>6</td>\n",
       "      <td>7</td>\n",
       "      <td>8</td>\n",
       "      <td>9</td>\n",
       "      <td>10</td>\n",
       "    </tr>\n",
       "    <tr>\n",
       "      <th>14</th>\n",
       "      <td>0</td>\n",
       "      <td>0</td>\n",
       "      <td>0</td>\n",
       "      <td>0</td>\n",
       "      <td>0</td>\n",
       "      <td>5</td>\n",
       "      <td>6</td>\n",
       "      <td>7</td>\n",
       "      <td>8</td>\n",
       "      <td>9</td>\n",
       "      <td>10</td>\n",
       "    </tr>\n",
       "    <tr>\n",
       "      <th>15</th>\n",
       "      <td>0</td>\n",
       "      <td>0</td>\n",
       "      <td>0</td>\n",
       "      <td>0</td>\n",
       "      <td>0</td>\n",
       "      <td>0</td>\n",
       "      <td>1</td>\n",
       "      <td>1</td>\n",
       "      <td>1</td>\n",
       "      <td>2</td>\n",
       "      <td>2</td>\n",
       "    </tr>\n",
       "    <tr>\n",
       "      <th>16</th>\n",
       "      <td>0</td>\n",
       "      <td>1</td>\n",
       "      <td>2</td>\n",
       "      <td>3</td>\n",
       "      <td>4</td>\n",
       "      <td>5</td>\n",
       "      <td>6</td>\n",
       "      <td>7</td>\n",
       "      <td>8</td>\n",
       "      <td>9</td>\n",
       "      <td>10</td>\n",
       "    </tr>\n",
       "    <tr>\n",
       "      <th>17</th>\n",
       "      <td>0</td>\n",
       "      <td>0</td>\n",
       "      <td>0</td>\n",
       "      <td>0</td>\n",
       "      <td>0</td>\n",
       "      <td>5</td>\n",
       "      <td>3</td>\n",
       "      <td>7</td>\n",
       "      <td>7</td>\n",
       "      <td>9</td>\n",
       "      <td>10</td>\n",
       "    </tr>\n",
       "  </tbody>\n",
       "</table>\n",
       "</div>"
      ],
      "text/plain": [
       "    0   1   2   3   4   5   6   7   8   9   10\n",
       "0    0   1   2   3   4   5   6   7   8   9  10\n",
       "1    0   1   2   3   4   5   6   7   8   9  10\n",
       "2    0   0   0   1   3   5   7   4   6   8  10\n",
       "3    0   0   0   0   0   0   0   0   0   0   0\n",
       "4    0   1   2   3   6   5   6   7   8   9  10\n",
       "5    0   1   2   3   4   5   4   3   2   1   0\n",
       "6    0   1   2   3   4   5   6   7   8   9  10\n",
       "7    0   0   0   0   3   3   3   3   3   3   3\n",
       "8    0   0   1   2   3   4   5   6   7   8   9\n",
       "9    1   2   3   4   5   6   7   8   9  10  10\n",
       "10   0   1   2   3   4   5   6   7   8   9  10\n",
       "11   0   0   0   0   0   0   0   0   0   0   0\n",
       "12   0   0   0   0   0   0   0   0   0   0   0\n",
       "13   0   2   2   3   4   5   6   7   8   9  10\n",
       "14   0   0   0   0   0   5   6   7   8   9  10\n",
       "15   0   0   0   0   0   0   1   1   1   2   2\n",
       "16   0   1   2   3   4   5   6   7   8   9  10\n",
       "17   0   0   0   0   0   5   3   7   7   9  10"
      ]
     },
     "execution_count": 3,
     "metadata": {},
     "output_type": "execute_result"
    }
   ],
   "source": [
    "df_conditional = df.iloc[:,-11:]\n",
    "df_start = df.iloc[:,-12]\n",
    "df_conditional"
   ]
  },
  {
   "cell_type": "code",
   "execution_count": 4,
   "metadata": {},
   "outputs": [
    {
     "data": {
      "text/plain": [
       "array([0, 0, 0, 1, 0, 2, 0, 0, 0, 0, 0, 1, 1, 0, 0, 0, 0, 0])"
      ]
     },
     "execution_count": 4,
     "metadata": {},
     "output_type": "execute_result"
    }
   ],
   "source": [
    "groups = np.array([0,0,0,1,0,2,0,0,0,0,0,1,1,0,0,0,0,0])\n",
    "groups"
   ]
  },
  {
   "cell_type": "code",
   "execution_count": 5,
   "metadata": {},
   "outputs": [
    {
     "data": {
      "text/plain": [
       "Text(0.5,0,'Contribución media del resto del grupo')"
      ]
     },
     "execution_count": 5,
     "metadata": {},
     "output_type": "execute_result"
    },
    {
     "data": {
      "image/png": "[encoded data removed]",
      "text/plain": [
       "<Figure size 720x576 with 1 Axes>"
      ]
     },
     "metadata": {
      "needs_background": "light"
     },
     "output_type": "display_data"
    }
   ],
   "source": [
    "plt.figure(figsize=(10,8)) \n",
    "plt.plot(df_conditional[groups == 0].mean(), marker='o', color='black', alpha=0.6)\n",
    "plt.plot(df_conditional[groups == 1].mean(), marker='x', color= 'black', alpha=0.4)\n",
    "plt.plot(df_conditional.iloc[0], color='black', alpha =0.2)\n",
    "plt.plot(df_conditional.mean(), color='black')\n",
    "plt.ylabel('Contribución')\n",
    "plt.xlabel('Contribución media del resto del grupo')"
   ]
  },
  {
   "cell_type": "code",
   "execution_count": 6,
   "metadata": {},
   "outputs": [
    {
     "data": {
      "image/png": "[encoded data removed]",
      "text/plain": [
       "<Figure size 1332x756 with 18 Axes>"
      ]
     },
     "metadata": {
      "needs_background": "light"
     },
     "output_type": "display_data"
    }
   ],
   "source": [
    "fig = plt.gcf()\n",
    "fig.set_size_inches(18.5, 10.5)\n",
    "ax1 = plt.subplot(5,4,1)\n",
    "plt.plot(df_conditional.iloc[0], color='black')\n",
    "plt.title('Sujeto 1')\n",
    "plt.subplots_adjust(bottom = -0.5, hspace = 0.4)\n",
    "\n",
    "for i in range(1,18):\n",
    "    plt.subplot(5,4,i+1, sharex=ax1, sharey=ax1)\n",
    "    plt.plot(df_conditional.iloc[i], color='black')\n",
    "    plt.title('Sujeto '+str(i+1))\n"
   ]
  },
  {
   "cell_type": "code",
   "execution_count": 7,
   "metadata": {},
   "outputs": [],
   "source": [
    "groups = np.array([0,0,0,1,0,2,0,0,0,2,0,1,1,0,0,0,0,0])"
   ]
  },
  {
   "cell_type": "code",
   "execution_count": 8,
   "metadata": {},
   "outputs": [
    {
     "data": {
      "text/plain": [
       "array([16, 17,  1,  5])"
      ]
     },
     "execution_count": 8,
     "metadata": {},
     "output_type": "execute_result"
    }
   ],
   "source": [
    "team = np.random.randint(18, size=4)\n",
    "team"
   ]
  },
  {
   "cell_type": "code",
   "execution_count": 9,
   "metadata": {},
   "outputs": [
    {
     "data": {
      "text/plain": [
       "3.75"
      ]
     },
     "execution_count": 9,
     "metadata": {},
     "output_type": "execute_result"
    }
   ],
   "source": [
    "t=0\n",
    "for player in team:\n",
    "    t+=df_start.iloc[player]\n",
    "    \n",
    "m = t/4 \n",
    "m"
   ]
  },
  {
   "cell_type": "code",
   "execution_count": 10,
   "metadata": {},
   "outputs": [
    {
     "data": {
      "text/plain": [
       "2.8125"
      ]
     },
     "execution_count": 10,
     "metadata": {},
     "output_type": "execute_result"
    }
   ],
   "source": [
    "t=0\n",
    "a=int(m)\n",
    "d=m-a\n",
    "for player in team:\n",
    "    t+= df_conditional.iloc[player][a]*(1-d) + df_conditional.iloc[player][a+1]*(d)\n",
    "    \n",
    "m = t/4\n",
    "m"
   ]
  },
  {
   "cell_type": "code",
   "execution_count": 28,
   "metadata": {
    "scrolled": true
   },
   "outputs": [
    {
     "name": "stdout",
     "output_type": "stream",
     "text": [
      "JUEGO DE LAS PAREJAS\n",
      "Convergencia a 0: 82\n",
      "Convergencia a 10: 3\n"
     ]
    }
   ],
   "source": [
    "import pandas as pd\n",
    "import numpy as np\n",
    "\n",
    "##JUEGO DE LAS PAREJAS\n",
    "\n",
    "#en df_start tenemos la contribucion incondicional\n",
    "#en df_conditional tenemos las contribuciones condicionales\n",
    "\n",
    "#Especificar total de iteraciones\n",
    "it_total = 100\n",
    "\n",
    "#reseteo de variables\n",
    "it = 0\n",
    "conv_cuenta = 0\n",
    "conv10_cuenta = 0\n",
    "\n",
    "#Creacion de array para almacenar resultados\n",
    "result = np.zeros([it_total*4, 20])\n",
    "\n",
    "while it < it_total:\n",
    "    \n",
    "    #Reseteo convergencia\n",
    "    conv = 0\n",
    "    conv10 = 0\n",
    "    \n",
    "    #Creación del equipo\n",
    "    team = np.random.randint(18, size=4)\n",
    "    \n",
    "    #Primera ronda tomamos contribución incondicional\n",
    "    p=0\n",
    "    for player in team:\n",
    "        result[p+it*4,0] = df_start.iloc[player]\n",
    "        p += 1\n",
    "    \n",
    "    #Rondas 2 a 20 tomatmos la contribución condicional interpolando\n",
    "    for i in range(1,20):\n",
    "        p=0\n",
    "        for player in team:\n",
    "            media = np.delete(result[it*4:it*4+4,i-1], p).mean()\n",
    "            a=int(media)\n",
    "            d=media-a\n",
    "            \n",
    "            y = df_conditional.iloc[player][a]*(1-d)\n",
    "            z = df_conditional.iloc[player][min(10,a+1)]*(d)\n",
    "            result[p+it*4,i] = y + z\n",
    "            \n",
    "            p +=1\n",
    "\n",
    "\n",
    "        i += 1\n",
    "\n",
    "        if media < 1:\n",
    "            conv = 1\n",
    "        if media > 9:\n",
    "            conv10 = 1\n",
    "    it += 1\n",
    "    conv_cuenta += conv\n",
    "    conv10_cuenta += conv10\n",
    "    \n",
    "\n",
    "#resultado\n",
    "print('JUEGO DE LAS PAREJAS')\n",
    "print('Convergencia a 0:',conv_cuenta)\n",
    "print('Convergencia a 10:',conv10_cuenta)"
   ]
  },
  {
   "cell_type": "code",
   "execution_count": 29,
   "metadata": {
    "scrolled": false
   },
   "outputs": [
    {
     "name": "stdout",
     "output_type": "stream",
     "text": [
      "JUEGO DE LOS EXTRAÑOS\n",
      "Convergencia a 0: 100\n",
      "Convergencia a 10: 0\n"
     ]
    }
   ],
   "source": [
    "#JUEGO DE LOS EXTRAÑOS\n",
    "\n",
    "#reseteo de variables\n",
    "it = 0\n",
    "conv_cuenta = 0\n",
    "conv10_cuenta = 0\n",
    "\n",
    "#Creacion de array para almacenar resultados\n",
    "result2 = np.zeros([it_total*4, 20])\n",
    "\n",
    "while it < it_total:\n",
    "    \n",
    "    #Reseteo convergencia\n",
    "    conv = 0\n",
    "    conv10 = 0\n",
    "    \n",
    "    #Creación del equipo\n",
    "    team = np.random.randint(18, size=4)\n",
    "    \n",
    "    #Primera ronda tomamos contribución incondicional\n",
    "    p=0\n",
    "    for player in team:\n",
    "        result2[p+it*4,0] = df_start.iloc[player]\n",
    "        p += 1\n",
    "    \n",
    "    #Rondas 2 a 20 tomatmos la contribución condicional interpolando\n",
    "    for i in range(1,20):\n",
    "        p=0\n",
    "        team = np.random.randint(18, size=4)\n",
    "        for player in team:\n",
    "            media = np.delete(result2[it*4:it*4+4,i-1], p).mean()\n",
    "            a=int(media)\n",
    "            d=media-a\n",
    "            \n",
    "            y = df_conditional.iloc[player][a]*(1-d)\n",
    "            z = df_conditional.iloc[player][min(10,a+1)]*(d)\n",
    "            result2[p+it*4,i] = y + z\n",
    "            \n",
    "            p +=1\n",
    "\n",
    "\n",
    "        i += 1\n",
    "\n",
    "        if media < 1:\n",
    "            conv = 1\n",
    "        if media > 9:\n",
    "            conv10 = 1\n",
    "    it += 1\n",
    "    conv_cuenta += conv\n",
    "    conv10_cuenta += conv10\n",
    "    \n",
    "\n",
    "#resultado\n",
    "print('JUEGO DE LOS EXTRAÑOS')\n",
    "print('Convergencia a 0:',conv_cuenta)\n",
    "print('Convergencia a 10:',conv10_cuenta)"
   ]
  },
  {
   "cell_type": "code",
   "execution_count": 27,
   "metadata": {},
   "outputs": [
    {
     "data": {
      "text/plain": [
       "Text(0.5,0,'Ronda')"
      ]
     },
     "execution_count": 27,
     "metadata": {},
     "output_type": "execute_result"
    },
    {
     "data": {
      "image/png": "[encoded data removed]",
      "text/plain": [
       "<Figure size 720x576 with 1 Axes>"
      ]
     },
     "metadata": {
      "needs_background": "light"
     },
     "output_type": "display_data"
    }
   ],
   "source": [
    "plt.figure(figsize=(10,8)) \n",
    "plt.plot(result.mean(axis=0), marker='o', color='black')\n",
    "plt.plot(result2.mean(axis=0), marker='x', color='black', alpha=0.8)\n",
    "plt.axis([-0.5, 19.5, 0, 10])\n",
    "plt.xticks(np.arange(20), np.arange(1,21))\n",
    "plt.yticks(np.arange(0, 11, step=1))\n",
    "plt.ylabel('Contribución media')\n",
    "plt.xlabel('Ronda')"
   ]
  },
  {
   "cell_type": "code",
   "execution_count": 17,
   "metadata": {},
   "outputs": [
    {
     "data": {
      "text/plain": [
       "2.4992331001057115"
      ]
     },
     "execution_count": 17,
     "metadata": {},
     "output_type": "execute_result"
    }
   ],
   "source": [
    "result.std(axis=0).mean()"
   ]
  },
  {
   "cell_type": "code",
   "execution_count": 21,
   "metadata": {},
   "outputs": [
    {
     "data": {
      "text/plain": [
       "0.822351516946387"
      ]
     },
     "execution_count": 21,
     "metadata": {},
     "output_type": "execute_result"
    }
   ],
   "source": [
    "result2.std(axis=0).mean()"
   ]
  },
  {
   "cell_type": "code",
   "execution_count": 26,
   "metadata": {},
   "outputs": [
    {
     "data": {
      "text/plain": [
       "Text(0.5,0,'Ronda')"
      ]
     },
     "execution_count": 26,
     "metadata": {},
     "output_type": "execute_result"
    },
    {
     "data": {
      "image/png": "[encoded data removed]",
      "text/plain": [
       "<Figure size 720x576 with 1 Axes>"
      ]
     },
     "metadata": {
      "needs_background": "light"
     },
     "output_type": "display_data"
    }
   ],
   "source": [
    "plt.figure(figsize=(10,8)) \n",
    "plt.plot(result.std(axis=0), marker='o', color='black')\n",
    "plt.plot(result2.std(axis=0), marker='x', color='black', alpha=0.8)\n",
    "plt.axis([-0.5, 19.5, 0, 5])\n",
    "plt.xticks(np.arange(20), np.arange(1,21))\n",
    "plt.yticks(np.arange(0, 11, step=1))\n",
    "plt.ylabel('Desviación típica')\n",
    "plt.xlabel('Ronda')"
   ]
  },
  {
   "cell_type": "code",
   "execution_count": 28,
   "metadata": {},
   "outputs": [
    {
     "data": {
      "text/plain": [
       "array([3.13769074, 2.50793527, 2.44847202, 2.42253508, 2.43024568,\n",
       "       2.43243967, 2.43491804, 2.43645263, 2.44249628, 2.45196845,\n",
       "       2.4618489 , 2.46761516, 2.47205813, 2.47750231, 2.48424396,\n",
       "       2.49094081, 2.49420768, 2.49507561, 2.496177  , 2.49983858])"
      ]
     },
     "execution_count": 28,
     "metadata": {},
     "output_type": "execute_result"
    }
   ],
   "source": [
    "result.std(axis=0)"
   ]
  },
  {
   "cell_type": "code",
   "execution_count": 29,
   "metadata": {},
   "outputs": [
    {
     "data": {
      "text/plain": [
       "array([3.13683461, 2.51338816, 2.07764089, 1.63628031, 1.23594257,\n",
       "       0.90097719, 0.66229381, 0.50669013, 0.41242662, 0.35841521,\n",
       "       0.3264527 , 0.30941979, 0.30120529, 0.30032154, 0.29718845,\n",
       "       0.29551597, 0.29542458, 0.29528036, 0.29242743, 0.29290472])"
      ]
     },
     "execution_count": 29,
     "metadata": {},
     "output_type": "execute_result"
    }
   ],
   "source": [
    "result2.std(axis=0)"
   ]
  },
  {
   "cell_type": "code",
   "execution_count": 32,
   "metadata": {},
   "outputs": [
    {
     "data": {
      "text/plain": [
       "array([4.56555   , 3.15335   , 2.35463889, 1.93756111, 1.7059858 ,\n",
       "       1.55659527, 1.45366036, 1.38167458, 1.33280123, 1.29931525,\n",
       "       1.27605103, 1.25708817, 1.24233935, 1.231507  , 1.22404595,\n",
       "       1.21881874, 1.21335627, 1.20787363, 1.20348936, 1.20131175])"
      ]
     },
     "execution_count": 32,
     "metadata": {},
     "output_type": "execute_result"
    }
   ],
   "source": [
    "result.mean(axis=0)"
   ]
  },
  {
   "cell_type": "code",
   "execution_count": 33,
   "metadata": {},
   "outputs": [
    {
     "data": {
      "text/plain": [
       "array([4.584075  , 3.17529167, 2.09013889, 1.32820926, 0.8347858 ,\n",
       "       0.52757716, 0.35384818, 0.25399717, 0.19610608, 0.16769757,\n",
       "       0.14889368, 0.13610956, 0.13023517, 0.12913222, 0.12671103,\n",
       "       0.12591564, 0.12508531, 0.12563543, 0.12374816, 0.1235029 ])"
      ]
     },
     "execution_count": 33,
     "metadata": {},
     "output_type": "execute_result"
    }
   ],
   "source": [
    "result2.mean(axis=0)"
   ]
  },
  {
   "cell_type": "code",
   "execution_count": 12,
   "metadata": {},
   "outputs": [
    {
     "name": "stderr",
     "output_type": "stream",
     "text": [
      "/home/bsanse/anaconda3/lib/python3.7/site-packages/ipykernel_launcher.py:1: SettingWithCopyWarning: \n",
      "A value is trying to be set on a copy of a slice from a DataFrame\n",
      "\n",
      "See the caveats in the documentation: http://pandas.pydata.org/pandas-docs/stable/indexing.html#indexing-view-versus-copy\n",
      "  \"\"\"Entry point for launching an IPython kernel.\n"
     ]
    }
   ],
   "source": [
    "df_start[11:13] = 0"
   ]
  },
  {
   "cell_type": "code",
   "execution_count": 13,
   "metadata": {},
   "outputs": [
    {
     "data": {
      "text/plain": [
       "0      8\n",
       "1      6\n",
       "2      5\n",
       "3      0\n",
       "4      7\n",
       "5      4\n",
       "6     10\n",
       "7      4\n",
       "8      4\n",
       "9     10\n",
       "10     5\n",
       "11     0\n",
       "12     0\n",
       "13     7\n",
       "14     5\n",
       "15     2\n",
       "16     0\n",
       "17     5\n",
       "Name: l, dtype: int64"
      ]
     },
     "execution_count": 13,
     "metadata": {},
     "output_type": "execute_result"
    }
   ],
   "source": [
    "df_start"
   ]
  },
  {
   "cell_type": "code",
   "execution_count": 14,
   "metadata": {},
   "outputs": [
    {
     "data": {
      "text/plain": [
       "(array([4., 0., 1., 0., 3., 4., 1., 2., 1., 0., 2.]),\n",
       " array([ 0,  1,  2,  3,  4,  5,  6,  7,  8,  9, 10, 11]),\n",
       " <a list of 11 Patch objects>)"
      ]
     },
     "execution_count": 14,
     "metadata": {},
     "output_type": "execute_result"
    },
    {
     "data": {
      "image/png": "[encoded data removed]",
      "text/plain": [
       "<Figure size 432x288 with 1 Axes>"
      ]
     },
     "metadata": {
      "needs_background": "light"
     },
     "output_type": "display_data"
    }
   ],
   "source": [
    "plt.axis(ymax=5)\n",
    "plt.hist(df_start, color='black', alpha=0.8, bins=[0,1,2,3,4,5,6,7,8,9,10,11])"
   ]
  },
  {
   "cell_type": "code",
   "execution_count": 15,
   "metadata": {},
   "outputs": [
    {
     "data": {
      "text/plain": [
       "0      8\n",
       "1      6\n",
       "2      5\n",
       "3      0\n",
       "4      7\n",
       "5      4\n",
       "6     10\n",
       "7      4\n",
       "8      4\n",
       "9     10\n",
       "10     5\n",
       "11     0\n",
       "12     0\n",
       "13     7\n",
       "14     5\n",
       "15     2\n",
       "16     0\n",
       "17     5\n",
       "Name: l, dtype: int64"
      ]
     },
     "execution_count": 15,
     "metadata": {},
     "output_type": "execute_result"
    }
   ],
   "source": [
    "df_start"
   ]
  },
  {
   "cell_type": "code",
   "execution_count": 16,
   "metadata": {},
   "outputs": [
    {
     "name": "stdout",
     "output_type": "stream",
     "text": [
      "1.0\n",
      "1.0\n",
      "0.9418581497197698\n",
      "nan\n",
      "0.9834450564746755\n",
      "7.976077666195232e-18\n",
      "1.0\n",
      "0.8366600265340757\n",
      "0.9966158955401238\n",
      "0.9966158955401241\n",
      "1.0\n",
      "nan\n",
      "nan\n",
      "0.9962828440259088\n",
      "0.9481224447363148\n",
      "0.894427190999916\n",
      "1.0\n",
      "0.9341545492620179\n"
     ]
    }
   ],
   "source": [
    "for i in range(0,18):\n",
    "    print(pd.Series((range(0,11))).corr(df_conditional.iloc[i]))"
   ]
  },
  {
   "cell_type": "code",
   "execution_count": 17,
   "metadata": {},
   "outputs": [],
   "source": [
    "from scipy import stats"
   ]
  },
  {
   "cell_type": "code",
   "execution_count": 18,
   "metadata": {},
   "outputs": [
    {
     "name": "stderr",
     "output_type": "stream",
     "text": [
      "/home/bsanse/anaconda3/lib/python3.7/site-packages/numpy/lib/function_base.py:2400: RuntimeWarning: invalid value encountered in true_divide\n",
      "  c /= stddev[:, None]\n",
      "/home/bsanse/anaconda3/lib/python3.7/site-packages/numpy/lib/function_base.py:2401: RuntimeWarning: invalid value encountered in true_divide\n",
      "  c /= stddev[None, :]\n",
      "/home/bsanse/anaconda3/lib/python3.7/site-packages/scipy/stats/_distn_infrastructure.py:879: RuntimeWarning: invalid value encountered in greater\n",
      "  return (self.a < x) & (x < self.b)\n",
      "/home/bsanse/anaconda3/lib/python3.7/site-packages/scipy/stats/_distn_infrastructure.py:879: RuntimeWarning: invalid value encountered in less\n",
      "  return (self.a < x) & (x < self.b)\n",
      "/home/bsanse/anaconda3/lib/python3.7/site-packages/scipy/stats/_distn_infrastructure.py:1821: RuntimeWarning: invalid value encountered in less_equal\n",
      "  cond2 = cond0 & (x <= self.a)\n"
     ]
    },
    {
     "name": "stdout",
     "output_type": "stream",
     "text": [
      "0 1.0 True\n",
      "0 1.0 True\n",
      "0 0.9449938984001263 True\n",
      "1 nan False\n",
      "0 0.9840572227689233 True\n",
      "2 0.0 False\n",
      "0 1.0 True\n",
      "0 0.8366600265340756 True\n",
      "0 0.9977246841962695 True\n",
      "2 0.9977246841962695 True\n",
      "0 1.0 True\n",
      "1 nan False\n",
      "1 nan False\n",
      "0 0.9977246841962695 True\n",
      "0 0.9534625892455922 True\n",
      "0 0.9045340337332909 True\n",
      "0 1.0 True\n",
      "0 0.941517393511213 True\n"
     ]
    }
   ],
   "source": [
    "for i in range(0,18):\n",
    "     print(groups[i], stats.spearmanr(df_conditional.iloc[i], (range(0,11)))[0], stats.spearmanr(df_conditional.iloc[i], (range(0,11)))[1]<0.01)"
   ]
  },
  {
   "cell_type": "code",
   "execution_count": 19,
   "metadata": {},
   "outputs": [
    {
     "name": "stdout",
     "output_type": "stream",
     "text": [
      "0.0\n",
      "0.0\n",
      "1.1606538715728084e-05\n",
      "nan\n",
      "4.666690957849578e-08\n",
      "1.0\n",
      "0.0\n",
      "0.0013229505842674947\n",
      "7.459103451013697e-12\n",
      "7.459103451013697e-12\n",
      "0.0\n",
      "nan\n",
      "nan\n",
      "7.459103451013697e-12\n",
      "5.537727791862358e-06\n",
      "0.0001307033932935311\n",
      "0.0\n",
      "1.5214774186816707e-05\n"
     ]
    },
    {
     "name": "stderr",
     "output_type": "stream",
     "text": [
      "/home/bsanse/anaconda3/lib/python3.7/site-packages/numpy/lib/function_base.py:2400: RuntimeWarning: invalid value encountered in true_divide\n",
      "  c /= stddev[:, None]\n",
      "/home/bsanse/anaconda3/lib/python3.7/site-packages/numpy/lib/function_base.py:2401: RuntimeWarning: invalid value encountered in true_divide\n",
      "  c /= stddev[None, :]\n",
      "/home/bsanse/anaconda3/lib/python3.7/site-packages/scipy/stats/_distn_infrastructure.py:879: RuntimeWarning: invalid value encountered in greater\n",
      "  return (self.a < x) & (x < self.b)\n",
      "/home/bsanse/anaconda3/lib/python3.7/site-packages/scipy/stats/_distn_infrastructure.py:879: RuntimeWarning: invalid value encountered in less\n",
      "  return (self.a < x) & (x < self.b)\n",
      "/home/bsanse/anaconda3/lib/python3.7/site-packages/scipy/stats/_distn_infrastructure.py:1821: RuntimeWarning: invalid value encountered in less_equal\n",
      "  cond2 = cond0 & (x <= self.a)\n"
     ]
    }
   ],
   "source": [
    "for i in range(0,18):\n",
    "     print(stats.spearmanr(df_conditional.iloc[i], (range(0,11)))[1])"
   ]
  },
  {
   "cell_type": "code",
   "execution_count": null,
   "metadata": {},
   "outputs": [],
   "source": []
  }
 ],
 "metadata": {
  "kernelspec": {
   "display_name": "Python 3",
   "language": "python",
   "name": "python3"
  },
  "language_info": {
   "codemirror_mode": {
    "name": "ipython",
    "version": 3
   },
   "file_extension": ".py",
   "mimetype": "text/x-python",
   "name": "python",
   "nbconvert_exporter": "python",
   "pygments_lexer": "ipython3",
   "version": "3.7.2"
  }
 },
 "nbformat": 4,
 "nbformat_minor": 2
}
